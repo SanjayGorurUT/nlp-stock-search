{
  "nbformat": 4,
  "nbformat_minor": 0,
  "metadata": {
    "colab": {
      "provenance": [],
      "include_colab_link": true
    },
    "kernelspec": {
      "name": "python3",
      "display_name": "Python 3"
    },
    "language_info": {
      "name": "python"
    }
  },
  "cells": [
    {
      "cell_type": "markdown",
      "metadata": {
        "id": "view-in-github",
        "colab_type": "text"
      },
      "source": [
        "<a href=\"https://colab.research.google.com/github/SanjayGorurUT/nlp-stock-search/blob/main/lec2_activity.ipynb\" target=\"_parent\"><img src=\"https://colab.research.google.com/assets/colab-badge.svg\" alt=\"Open In Colab\"/></a>"
      ]
    },
    {
      "cell_type": "markdown",
      "source": [
        "# Lec2 Activity, CS6400 A\n",
        "Please **MAKE A COPY** of this notebook from the menu File > Save a copy in Drive. You are expected to work on your own copy during class."
      ],
      "metadata": {
        "id": "vPlYo9pg72eL"
      }
    },
    {
      "cell_type": "markdown",
      "source": [
        "## Setup (single-table queries)\n",
        "\n",
        "To work with SQL easily in an Ipython notebook, we'll load the [ipython-sql extension](https://github.com/catherinedevlin/ipython-sql) as follows:"
      ],
      "metadata": {
        "id": "o9Z5Vcsc_ffD"
      }
    },
    {
      "cell_type": "code",
      "source": [
        "%load_ext sql\n",
        "%sql sqlite://\n",
        "# This is the key setting to disable the fancy table output\n",
        "%config SqlMagic.style = '_DEPRECATED_DEFAULT'"
      ],
      "metadata": {
        "id": "q9aDtQCa_R1A"
      },
      "execution_count": null,
      "outputs": []
    },
    {
      "cell_type": "markdown",
      "source": [
        "Using the syntax we just learned, let's create your first table in SQL!"
      ],
      "metadata": {
        "id": "1PsO4uwaAA_X"
      }
    },
    {
      "cell_type": "code",
      "source": [
        "%%sql\n",
        "drop table if exists product;\n",
        "create table product(\n",
        "       pname varchar, -- name of the product\n",
        "       price float, -- price of the product\n",
        "       category varchar, -- category\n",
        "       manufacturer varchar, -- manufacturer\n",
        "       primary key (pname, manufacturer));"
      ],
      "metadata": {
        "colab": {
          "base_uri": "https://localhost:8080/"
        },
        "id": "op_gXYi5_5DU",
        "outputId": "08cbea48-04fd-4d13-a5c5-784966d68423"
      },
      "execution_count": null,
      "outputs": [
        {
          "output_type": "stream",
          "name": "stdout",
          "text": [
            " * sqlite://\n",
            "Done.\n",
            "Done.\n"
          ]
        },
        {
          "output_type": "execute_result",
          "data": {
            "text/plain": [
              "[]"
            ]
          },
          "metadata": {},
          "execution_count": 2
        }
      ]
    },
    {
      "cell_type": "markdown",
      "source": [
        "And insert some rows into the tables"
      ],
      "metadata": {
        "id": "t18L42iHASBU"
      }
    },
    {
      "cell_type": "code",
      "source": [
        "%%sql\n",
        "insert into product values('Pikachu', 19.99, 'Toy', 'ToyWorks');\n",
        "insert into product values('Pikachu', 19.99, 'Toy', 'ToyFriends');\n",
        "insert into product values('Pokeball', 29.99, 'Electronic', 'ToyCo');\n",
        "insert into product values('Bulbasaur', 149.99, 'Toy', 'ToyFriends');\n",
        "insert into product values('Charizard', 203.99, 'Toy', 'ToyCo');\n",
        "insert into product values('PokeCamera', 19.99, 'Electronic', 'ToyWorks');\n",
        "insert into product values('Pokemon Cards', NULL, 'Games', 'ToyCo');"
      ],
      "metadata": {
        "colab": {
          "base_uri": "https://localhost:8080/"
        },
        "id": "HdDm-cwRAJbz",
        "outputId": "aa250415-af04-4e87-adae-a8ca0791f31a"
      },
      "execution_count": null,
      "outputs": [
        {
          "output_type": "stream",
          "name": "stdout",
          "text": [
            " * sqlite://\n",
            "1 rows affected.\n",
            "1 rows affected.\n",
            "1 rows affected.\n",
            "1 rows affected.\n",
            "1 rows affected.\n",
            "1 rows affected.\n",
            "1 rows affected.\n"
          ]
        },
        {
          "output_type": "execute_result",
          "data": {
            "text/plain": [
              "[]"
            ]
          },
          "metadata": {},
          "execution_count": 3
        }
      ]
    },
    {
      "cell_type": "markdown",
      "source": [
        "Let's check out the table we just created."
      ],
      "metadata": {
        "id": "hGq1h6bF-UZm"
      }
    },
    {
      "cell_type": "code",
      "source": [
        "%sql select * from product;"
      ],
      "metadata": {
        "colab": {
          "base_uri": "https://localhost:8080/",
          "height": 226
        },
        "id": "DDdmm8L5AeH3",
        "outputId": "4172aaf5-b3da-4efc-d6c4-0aa556ed41cb"
      },
      "execution_count": null,
      "outputs": [
        {
          "output_type": "stream",
          "name": "stdout",
          "text": [
            " * sqlite://\n",
            "Done.\n"
          ]
        },
        {
          "output_type": "execute_result",
          "data": {
            "text/plain": [
              "[('Pikachu', 19.99, 'Toy', 'ToyWorks'),\n",
              " ('Pikachu', 19.99, 'Toy', 'ToyFriends'),\n",
              " ('Pokeball', 29.99, 'Electronic', 'ToyCo'),\n",
              " ('Bulbasaur', 149.99, 'Toy', 'ToyFriends'),\n",
              " ('Charizard', 203.99, 'Toy', 'ToyCo'),\n",
              " ('PokeCamera', 19.99, 'Electronic', 'ToyWorks'),\n",
              " ('Pokemon Cards', None, 'Games', 'ToyCo')]"
            ],
            "text/html": [
              "<table>\n",
              "    <thead>\n",
              "        <tr>\n",
              "            <th>pname</th>\n",
              "            <th>price</th>\n",
              "            <th>category</th>\n",
              "            <th>manufacturer</th>\n",
              "        </tr>\n",
              "    </thead>\n",
              "    <tbody>\n",
              "        <tr>\n",
              "            <td>Pikachu</td>\n",
              "            <td>19.99</td>\n",
              "            <td>Toy</td>\n",
              "            <td>ToyWorks</td>\n",
              "        </tr>\n",
              "        <tr>\n",
              "            <td>Pikachu</td>\n",
              "            <td>19.99</td>\n",
              "            <td>Toy</td>\n",
              "            <td>ToyFriends</td>\n",
              "        </tr>\n",
              "        <tr>\n",
              "            <td>Pokeball</td>\n",
              "            <td>29.99</td>\n",
              "            <td>Electronic</td>\n",
              "            <td>ToyCo</td>\n",
              "        </tr>\n",
              "        <tr>\n",
              "            <td>Bulbasaur</td>\n",
              "            <td>149.99</td>\n",
              "            <td>Toy</td>\n",
              "            <td>ToyFriends</td>\n",
              "        </tr>\n",
              "        <tr>\n",
              "            <td>Charizard</td>\n",
              "            <td>203.99</td>\n",
              "            <td>Toy</td>\n",
              "            <td>ToyCo</td>\n",
              "        </tr>\n",
              "        <tr>\n",
              "            <td>PokeCamera</td>\n",
              "            <td>19.99</td>\n",
              "            <td>Electronic</td>\n",
              "            <td>ToyWorks</td>\n",
              "        </tr>\n",
              "        <tr>\n",
              "            <td>Pokemon Cards</td>\n",
              "            <td>None</td>\n",
              "            <td>Games</td>\n",
              "            <td>ToyCo</td>\n",
              "        </tr>\n",
              "    </tbody>\n",
              "</table>"
            ]
          },
          "metadata": {},
          "execution_count": 4
        }
      ]
    },
    {
      "cell_type": "markdown",
      "source": [
        "###Q1\n",
        "Write a query that returns names of all products whose price is under 20."
      ],
      "metadata": {
        "id": "OGwLG0UKAvE0"
      }
    },
    {
      "cell_type": "code",
      "source": [
        "%%sql\n",
        "--TODO"
      ],
      "metadata": {
        "id": "I67uULyCBRNd",
        "colab": {
          "base_uri": "https://localhost:8080/",
          "height": 140
        },
        "outputId": "a71e4a59-2ed8-4f9d-91c5-6a31c6fad565"
      },
      "execution_count": null,
      "outputs": [
        {
          "output_type": "stream",
          "name": "stdout",
          "text": [
            " * sqlite://\n",
            "Done.\n"
          ]
        },
        {
          "output_type": "execute_result",
          "data": {
            "text/plain": [
              "[('Pikachu',), ('Pikachu',), ('PokeCamera',)]"
            ],
            "text/html": [
              "<table>\n",
              "    <thead>\n",
              "        <tr>\n",
              "            <th>pname</th>\n",
              "        </tr>\n",
              "    </thead>\n",
              "    <tbody>\n",
              "        <tr>\n",
              "            <td>Pikachu</td>\n",
              "        </tr>\n",
              "        <tr>\n",
              "            <td>Pikachu</td>\n",
              "        </tr>\n",
              "        <tr>\n",
              "            <td>PokeCamera</td>\n",
              "        </tr>\n",
              "    </tbody>\n",
              "</table>"
            ]
          },
          "metadata": {},
          "execution_count": 5
        }
      ]
    },
    {
      "cell_type": "markdown",
      "source": [
        "###Q2\n",
        "Write a query to get an output table of all the products with \"Poke\" in the name, showing just their name and price, and sorted alphabetically by manufacturer."
      ],
      "metadata": {
        "id": "PgMoccrEApXw"
      }
    },
    {
      "cell_type": "code",
      "source": [
        "%%sql\n",
        "--TODO"
      ],
      "metadata": {
        "id": "JeKPBaSzAjjT",
        "colab": {
          "base_uri": "https://localhost:8080/",
          "height": 119
        },
        "outputId": "c5d4edc0-919e-4d50-84be-3f069610bab8"
      },
      "execution_count": null,
      "outputs": [
        {
          "output_type": "stream",
          "name": "stdout",
          "text": [
            " * sqlite://\n",
            "Done.\n"
          ]
        },
        {
          "output_type": "execute_result",
          "data": {
            "text/plain": [
              "[('Pokeball', 29.99), ('PokeCamera', 19.99)]"
            ],
            "text/html": [
              "<table>\n",
              "    <thead>\n",
              "        <tr>\n",
              "            <th>pname</th>\n",
              "            <th>price</th>\n",
              "        </tr>\n",
              "    </thead>\n",
              "    <tbody>\n",
              "        <tr>\n",
              "            <td>Pokeball</td>\n",
              "            <td>29.99</td>\n",
              "        </tr>\n",
              "        <tr>\n",
              "            <td>PokeCamera</td>\n",
              "            <td>19.99</td>\n",
              "        </tr>\n",
              "    </tbody>\n",
              "</table>"
            ]
          },
          "metadata": {},
          "execution_count": 10
        }
      ]
    },
    {
      "cell_type": "markdown",
      "source": [
        "## Setup (multi-table queries)\n",
        "\n",
        "Let's try working with mulitple tables. We will create the following two tables:\n",
        "> Product (<u>pname</u>, price, category,  <u>manufacturer</u>)<br>\n",
        "> Company (<u>cname</u>, stockPrice, country)\n",
        "\n",
        "\n"
      ],
      "metadata": {
        "id": "b_hpXvPtDk7u"
      }
    },
    {
      "cell_type": "code",
      "source": [
        "%%sql\n",
        "drop table if exists company;\n",
        "pragma foreign_keys = ON; -- WARNING by default off in sqlite\n",
        "create table company (\n",
        "    cname varchar primary key, -- company name uniquely identifies the company.\n",
        "    stockprice float, -- stock price is in float\n",
        "    country varchar); -- country is just a string\n",
        "insert into company values ('ToyWorks', 25.0, 'USA');\n",
        "insert into company values ('ToyFriends', 65.0, 'China');\n",
        "insert into company values ('ToyCo', 15.0, 'China');"
      ],
      "metadata": {
        "colab": {
          "base_uri": "https://localhost:8080/"
        },
        "id": "aAVGY8HsDlyl",
        "outputId": "38e8a768-a062-4855-c03b-a9f02692b1f2"
      },
      "execution_count": null,
      "outputs": [
        {
          "output_type": "stream",
          "name": "stdout",
          "text": [
            " * sqlite://\n",
            "Done.\n",
            "Done.\n",
            "Done.\n",
            "1 rows affected.\n",
            "1 rows affected.\n",
            "1 rows affected.\n"
          ]
        },
        {
          "output_type": "execute_result",
          "data": {
            "text/plain": [
              "[]"
            ]
          },
          "metadata": {},
          "execution_count": 5
        }
      ]
    },
    {
      "cell_type": "code",
      "source": [
        "%%sql\n",
        "-- Let's recreate the product table, this time with a foreign key constraint\n",
        "drop table if exists product;\n",
        "create table product(\n",
        "       pname varchar, -- name of the product\n",
        "       price money, -- price of the product\n",
        "       category varchar, -- category\n",
        "       manufacturer varchar, -- manufacturer\n",
        "       primary key (pname, manufacturer),\n",
        "       foreign key (manufacturer) references company(cname));\n",
        "insert into product values('Pikachu', 19.99, 'Toy', 'ToyWorks');\n",
        "insert into product values('Pikachu', 19.99, 'Toy', 'ToyFriends');\n",
        "insert into product values('Pokeball', 29.99, 'Electronic', 'ToyCo');\n",
        "insert into product values('Bulbasaur', 149.99, 'Toy', 'ToyFriends');\n",
        "insert into product values('Charizard', 203.99, 'Toy', 'ToyCo');\n",
        "insert into product values('PokeCamera', 19.99, 'Electronic', 'ToyWorks');"
      ],
      "metadata": {
        "colab": {
          "base_uri": "https://localhost:8080/"
        },
        "id": "QlS8y_UcFPmI",
        "outputId": "4c181f4a-300c-41a6-b5e3-40d681f15d94"
      },
      "execution_count": null,
      "outputs": [
        {
          "output_type": "stream",
          "name": "stdout",
          "text": [
            " * sqlite://\n",
            "Done.\n",
            "Done.\n",
            "1 rows affected.\n",
            "1 rows affected.\n",
            "1 rows affected.\n",
            "1 rows affected.\n",
            "1 rows affected.\n",
            "1 rows affected.\n"
          ]
        },
        {
          "output_type": "execute_result",
          "data": {
            "text/plain": [
              "[]"
            ]
          },
          "metadata": {},
          "execution_count": 6
        }
      ]
    },
    {
      "cell_type": "markdown",
      "source": [
        "## Q3\n",
        "Write a query to find all categories of products that are made by Chinese companies.\n",
        "> Product (<u>pname</u>, price, category,  <u>manufacturer</u>)<br>\n",
        "> Company (<u>cname</u>, stockPrice, country)"
      ],
      "metadata": {
        "id": "ErbaRmGTFtQ_"
      }
    },
    {
      "cell_type": "code",
      "source": [
        "%%sql\n",
        "--TODO"
      ],
      "metadata": {
        "id": "RhvmvK3NFral",
        "colab": {
          "base_uri": "https://localhost:8080/",
          "height": 119
        },
        "outputId": "9e82e528-fe97-48b0-ed03-34dbd45f9676"
      },
      "execution_count": null,
      "outputs": [
        {
          "output_type": "stream",
          "name": "stdout",
          "text": [
            " * sqlite://\n",
            "Done.\n"
          ]
        },
        {
          "output_type": "execute_result",
          "data": {
            "text/plain": [
              "[('Toy',), ('Electronic',)]"
            ],
            "text/html": [
              "<table>\n",
              "    <thead>\n",
              "        <tr>\n",
              "            <th>category</th>\n",
              "        </tr>\n",
              "    </thead>\n",
              "    <tbody>\n",
              "        <tr>\n",
              "            <td>Toy</td>\n",
              "        </tr>\n",
              "        <tr>\n",
              "            <td>Electronic</td>\n",
              "        </tr>\n",
              "    </tbody>\n",
              "</table>"
            ]
          },
          "metadata": {},
          "execution_count": 4
        }
      ]
    },
    {
      "cell_type": "code",
      "source": [],
      "metadata": {
        "id": "5Y4sEMvzcQyt"
      },
      "execution_count": null,
      "outputs": []
    }
  ]
}